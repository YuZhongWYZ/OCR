{
 "cells": [
  {
   "cell_type": "code",
   "execution_count": null,
   "id": "initial_id",
   "metadata": {
    "collapsed": true
   },
   "outputs": [],
   "source": [
    "import torch\n",
    "import torch.nn as nn\n",
    "import torch.optim as optim\n",
    "from sklearn.neighbors import KNeighborsClassifier\n",
    "from sklearn.svm import SVC"
   ]
  },
  {
   "metadata": {},
   "cell_type": "code",
   "outputs": [],
   "execution_count": null,
   "source": [
    "\n",
    "# Define PyTorch CNN model\n",
    "class TorchCNN(nn.Module):\n",
    "    def __init__(self, input_channels, num_classes):\n",
    "        \"\"\"\n",
    "        PyTorch CNN 模型\n",
    "        参数：\n",
    "        - input_channels: 输入通道数，例如 MNIST 的灰度图像为 1\n",
    "        - num_classes: 输出类别数，例如 MNIST 为 10 类\n",
    "        \"\"\"\n",
    "        super(TorchCNN, self).__init__()\n",
    "        self.conv_layers = nn.Sequential(\n",
    "            nn.Conv2d(input_channels, 32, kernel_size=3, stride=1, padding=1),  # 卷积层，输出通道数 32\n",
    "            nn.ReLU(),\n",
    "            nn.MaxPool2d(kernel_size=2, stride=2),  # 最大池化，减少尺寸\n",
    "            nn.Conv2d(32, 64, kernel_size=3, stride=1, padding=1),  # 卷积层，输出通道数 64\n",
    "            nn.ReLU(),\n",
    "            nn.MaxPool2d(kernel_size=2, stride=2)  # 最大池化\n",
    "        )\n",
    "        self.fc_layers = nn.Sequential(\n",
    "            nn.Flatten(),\n",
    "            nn.Linear(64 * 7 * 7, 128),  # 全连接层，输出维度 128\n",
    "            nn.ReLU(),\n",
    "            nn.Linear(128, num_classes)  # 全连接层，输出维度为类别数\n",
    "        )\n",
    "\n",
    "    def forward(self, x):\n",
    "        x = self.conv_layers(x)\n",
    "        x = self.fc_layers(x)\n",
    "        return x"
   ],
   "id": "3a70797fc04ab922"
  },
  {
   "metadata": {},
   "cell_type": "code",
   "outputs": [],
   "execution_count": null,
   "source": [
    "\n",
    "# Define sklearn KNN model\n",
    "def create_knn_model(n_neighbors=5):\n",
    "    \"\"\"\n",
    "    sklearn KNN 模型\n",
    "    参数：\n",
    "    - n_neighbors: 邻居数量，默认 5\n",
    "    \"\"\"\n",
    "    return KNeighborsClassifier(n_neighbors=n_neighbors)\n",
    "\n",
    "# Define sklearn SVM model\n",
    "def create_svm_model(kernel='linear', C=1.0):\n",
    "    \"\"\"\n",
    "    sklearn SVM 模型\n",
    "    参数：\n",
    "    - kernel: 核函数类型，例如 'linear', 'rbf' 等\n",
    "    - C: 正则化参数，默认为 1.0\n",
    "    \"\"\"\n",
    "    return SVC(kernel=kernel, C=C, probability=True)"
   ],
   "id": "627e182bd00aae98"
  },
  {
   "metadata": {},
   "cell_type": "code",
   "outputs": [],
   "execution_count": null,
   "source": [
    "\n",
    "# Wrapper to create models based on input\n",
    "def get_model(model_type, **kwargs):\n",
    "    \"\"\"\n",
    "    根据指定类型创建模型\n",
    "    参数：\n",
    "    - model_type: 模型类型，支持 'torch_cnn', 'knn', 'svm'\n",
    "    - kwargs: 传递给具体模型的参数\n",
    "    \"\"\"\n",
    "    if model_type == \"torch_cnn\":\n",
    "        input_channels = kwargs.get(\"input_channels\", 1)  # 输入通道数，默认 1\n",
    "        num_classes = kwargs.get(\"num_classes\", 10)  # 类别数，默认 10\n",
    "        return TorchCNN(input_channels, num_classes)\n",
    "\n",
    "    elif model_type == \"knn\":\n",
    "        n_neighbors = kwargs.get(\"n_neighbors\", 5)  # KNN 的邻居数量，默认 5\n",
    "        return create_knn_model(n_neighbors)\n",
    "\n",
    "    elif model_type == \"svm\":\n",
    "        kernel = kwargs.get(\"kernel\", 'linear')  # SVM 的核函数类型，默认 'linear'\n",
    "        C = kwargs.get(\"C\", 1.0)  # SVM 的正则化参数，默认 1.0\n",
    "        return create_svm_model(kernel, C)\n",
    "\n",
    "    else:\n",
    "        raise ValueError(f\"Unsupported model type: {model_type}\")"
   ],
   "id": "b41c024a04f5cb37"
  },
  {
   "metadata": {},
   "cell_type": "code",
   "outputs": [],
   "execution_count": null,
   "source": [
    "if __name__ == \"__main__\":\n",
    "    # Example usage\n",
    "    torch_model = get_model(\"torch_cnn\", input_channels=1, num_classes=10)\n",
    "    print(torch_model)\n",
    "\n",
    "    knn_model = get_model(\"knn\", n_neighbors=3)\n",
    "    print(knn_model)\n",
    "\n",
    "    svm_model = get_model(\"svm\", kernel='rbf', C=2.0)\n",
    "    print(svm_model)"
   ],
   "id": "e93c3df3b9ca68be"
  }
 ],
 "metadata": {
  "kernelspec": {
   "display_name": "Python 3",
   "language": "python",
   "name": "python3"
  },
  "language_info": {
   "codemirror_mode": {
    "name": "ipython",
    "version": 2
   },
   "file_extension": ".py",
   "mimetype": "text/x-python",
   "name": "python",
   "nbconvert_exporter": "python",
   "pygments_lexer": "ipython2",
   "version": "2.7.6"
  }
 },
 "nbformat": 4,
 "nbformat_minor": 5
}
